{
"cells": [
{
"cell_type": "markdown",
"metadata": {},
"source": [
"# I- DESCRIPTION"
]
},
{
"cell_type": "code",
"execution_count": null,
"metadata": {
"collapsed": true
},
"outputs": [],
"source": [
"qMRinfo('mp2rage'); % Describe the model"
]
},
{
"cell_type": "markdown",
"metadata": {},
"source": [
"# II- MODEL PARAMETERS\n",
"## a- Create object"
]
},
{
"cell_type": "code",
"execution_count": null,
"metadata": {
"collapsed": true
},
"outputs": [],
"source": [
"Model = mp2rage;"
]
},
{
"cell_type": "markdown",
"metadata": {},
"source": [
"## Download sample data from OSF\n",
"> The current `Model` is an instance of `mp2rage` class.\n",
" \n",
"You can manually download the sample data for `mp2rage` [by clicking here](https:\/\/osf.io\/8x2c9\/download?version=4)."
]
},
{
"cell_type": "code",
"execution_count": null,
"metadata": {
"collapsed": true
},
"outputs": [],
"source": [
"dataDir = downloadData(Model,pwd);"
]
},
{
"cell_type": "markdown",
"metadata": {},
"source": [
"## b- Set protocol\n",
"> Protocol is set according to the example data\n",
" \n",
"%           |- mp2rage object needs 5 protocol field(s) to be assigned:\n",
"%           |-   Hardware\n",
"%           |-   RepetitionTimes\n",
"%           |-   Timing\n",
"%           |-   Sequence\n",
"%           |-   NumberOfShots"
]
},
{
"cell_type": "code",
"execution_count": null,
"metadata": {
"collapsed": true
},
"outputs": [],
"source": [
"B0  = 7;\n",
"Model.Prot.Hardware.Mat = [ B0 ];\n",
"% -----------------------------------------\n",
"Inv  = 6;\n",
"Exc  = 0.0067;\n",
"Model.Prot.RepetitionTimes.Mat = [ Inv  Exc ];\n",
"% -----------------------------------------\n",
"% InversionTimes (s) is a vector of [2X1]\n",
"InversionTimes  = [0.8000; 2.7000];\n",
"Model.Prot.Timing.Mat = [ InversionTimes ];\n",
"% -----------------------------------------\n",
"% FlipAngles is a vector of [2X1]\n",
"FlipAngles = [4.0000; 5.0000];\n",
"Model.Prot.Sequence.Mat = [ FlipAngles];\n",
"% -----------------------------------------\n",
"Pre = 35;\n",
"Post = 72;\n",
"Model.Prot.NumberOfShots.Mat = [ Pre Post];\n",
"% -----------------------------------------"
]
},
{
"cell_type": "markdown",
"metadata": {},
"source": [
"# III- FIT EXPERIMENTAL DATASET\n",
"## a- Load experimental data\n",
"%           |- mp2rage object needs 7 data input(s) to be assigned:\n",
"%           |-   MP2RAGE\n",
"%           |-   INV1mag\n",
"%           |-   INV1phase\n",
"%           |-   INV2mag\n",
"%           |-   INV2phase\n",
"%           |-   B1map\n",
"%           |-   Mask"
]
},
{
"cell_type": "code",
"execution_count": null,
"metadata": {
"collapsed": true
},
"outputs": [],
"source": [
"% MP2RAGE.nii.gz contains [143  218  220] data.\n",
"data.MP2RAGE=double(load_nii_data('mp2rage_data\/MP2RAGE.nii.gz'));\n",
"% B1map.nii.gz contains [143  218  220] data.\n",
"data.B1map=double(load_nii_data('mp2rage_data\/B1map.nii.gz'));\n",
" "
]
},
{
"cell_type": "markdown",
"metadata": {},
"source": [
"## b- Fit experimental data\n",
"> This section will fit data."
]
},
{
"cell_type": "code",
"execution_count": null,
"metadata": {
"collapsed": true
},
"outputs": [],
"source": [
"FitResults = FitData(data,Model,0);"
]
},
{
"cell_type": "markdown",
"metadata": {},
"source": [
"## c- Show fitting results\n",
"> * Output map will be displayed.\n",
" \n",
"> * If available, a graph will be displayed to show fitting in a voxel."
]
},
{
"cell_type": "code",
"execution_count": null,
"metadata": {
"collapsed": true
},
"outputs": [],
"source": [
"qMRshowOutput(FitResults,data,Model);"
]
},
{
"cell_type": "markdown",
"metadata": {},
"source": [
"## d- Save results\n",
"> * qMR maps are saved in NIFTI and in a structure `FitResults.mat` that can be loaded in qMRLab graphical user interface.\n",
"> * Model object stores all the options and protocol\n",
"> * These objects can be easily shared or be used for simulation."
]
},
{
"cell_type": "code",
"execution_count": null,
"metadata": {
"collapsed": true
},
"outputs": [],
"source": [
"FitResultsSave_nii(FitResults, 'mp2rage_data\/MP2RAGE.nii.gz');"
]
}
],
"metadata": {
"kernelspec": {
"display_name": "Octave",
"language": "octave",
"name": "octave"
},
"language_info": {
"file_extension": ".m",
"help_links": [
{
"text": "GNU Octave",
"url": "https:\/\/www.gnu.org\/software\/octave\/support.html"
},
{
"text": "Octave Kernel",
"url": "https:\/\/github.com\/Calysto\/octave_kernel"
},
{
"text": "MetaKernel Magics",
"url": "https:\/\/github.com\/calysto\/metakernel\/blob\/master\/metakernel\/magics\/README.md"
}
],
"mimetype": "text\/x-octave",
"name": "octave",
"version": "4.2.1"
},
"toc": {
"nav_menu": null,
"number_sections": true,
"sideBar": false,
"skip_h1_title": false,
"toc_cell": false,
"toc_position": null,
"toc_section_display": "block",
"toc_window_display": false
}
},
"nbformat": 4,
"nbformat_minor": 2
}
