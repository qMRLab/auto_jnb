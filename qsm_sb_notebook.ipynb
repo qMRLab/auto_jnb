{
"cells": [
{
"cell_type": "markdown",
"metadata": {},
"source": [
"# I- DESCRIPTION"
]
},
{
"cell_type": "code",
"execution_count": null,
"metadata": {
"collapsed": true
},
"outputs": [],
"source": [
"qMRinfo('qsm_sb'); % Describe the model"
]
},
{
"cell_type": "markdown",
"metadata": {},
"source": [
"# II- MODEL PARAMETERS\n",
"## a- Create object"
]
},
{
"cell_type": "code",
"execution_count": null,
"metadata": {
"collapsed": true
},
"outputs": [],
"source": [
"Model = qsm_sb;"
]
},
{
"cell_type": "markdown",
"metadata": {},
"source": [
"## Download sample data from OSF\n",
"> The current `Model` is an instance of `qsm_sb` class.\n",
" \n",
"You can manually download the sample data for `qsm_sb` [by clicking here](https:\/\/osf.io\/9d8kz\/download?version=1)."
]
},
{
"cell_type": "code",
"execution_count": null,
"metadata": {
"collapsed": true
},
"outputs": [],
"source": [
"dataDir = downloadData(Model,pwd);"
]
},
{
"cell_type": "markdown",
"metadata": {},
"source": [
"## b- Set protocol\n",
"> Protocol is set according to the example data\n",
" \n",
"%           |- qsm_sb object needs 3 protocol field(s) to be assigned:\n",
"%           |-   Resolution\n",
"%           |-   Timing\n",
"%           |-   Magnetization"
]
},
{
"cell_type": "code",
"execution_count": null,
"metadata": {
"collapsed": true
},
"outputs": [],
"source": [
"xDim  = 0.6;\n",
"yDim  = 0.6;\n",
"zDim  = 0.6;\n",
"Model.Prot.Resolution.Mat = [ xDim  yDim  zDim ];\n",
"% -----------------------------------------\n",
"TE  = 0.0081;\n",
"Model.Prot.Timing.Mat = [ TE ];\n",
"% -----------------------------------------\n",
"FieldStrength  = 3;\n",
"CentralFreq  = 42.58;\n",
"Model.Prot.Magnetization.Mat = [ FieldStrength  CentralFreq ];\n",
"% -----------------------------------------"
]
},
{
"cell_type": "markdown",
"metadata": {},
"source": [
"# III- FIT EXPERIMENTAL DATASET\n",
"## a- Load experimental data\n",
"%           |- qsm_sb object needs 3 data input(s) to be assigned:\n",
"%           |-   PhaseGRE\n",
"%           |-   MagnGRE\n",
"%           |-   Mask"
]
},
{
"cell_type": "code",
"execution_count": null,
"metadata": {
"collapsed": true
},
"outputs": [],
"source": [
" \n",
"% PhaseGRE.mat contains [384  336  224] data.\n",
" load('qsm_sb_data\/PhaseGRE.mat');\n",
"% MagnGRE.mat contains [384  336  224] data.\n",
" load('qsm_sb_data\/MagnGRE.mat');\n",
"% Mask.mat contains [384  336  224] data.\n",
" load('qsm_sb_data\/Mask.mat');\n",
" data.PhaseGRE= double(PhaseGRE);\n",
" data.MagnGRE= double(MagnGRE);\n",
" data.Mask= double(Mask);"
]
},
{
"cell_type": "markdown",
"metadata": {},
"source": [
"## b- Fit experimental data\n",
"> This section will fit data."
]
},
{
"cell_type": "code",
"execution_count": null,
"metadata": {
"collapsed": true
},
"outputs": [],
"source": [
"FitResults = FitData(data,Model,0);"
]
},
{
"cell_type": "markdown",
"metadata": {},
"source": [
"## c- Show fitting results\n",
"> * Output map will be displayed.\n",
" \n",
"> * If available, a graph will be displayed to show fitting in a voxel."
]
},
{
"cell_type": "code",
"execution_count": null,
"metadata": {
"collapsed": true
},
"outputs": [],
"source": [
"qMRshowOutput(FitResults,data,Model);"
]
},
{
"cell_type": "markdown",
"metadata": {},
"source": [
"## d- Save results\n",
"> * qMR maps are saved in NIFTI and in a structure `FitResults.mat` that can be loaded in qMRLab graphical user interface.\n",
"> * Model object stores all the options and protocol\n",
"> * These objects can be easily shared or be used for simulation."
]
},
{
"cell_type": "code",
"execution_count": null,
"metadata": {
"collapsed": true
},
"outputs": [],
"source": [
"FitResultsSave_nii(FitResults);"
]
}
],
"metadata": {
"kernelspec": {
"display_name": "Octave",
"language": "octave",
"name": "octave"
},
"language_info": {
"file_extension": ".m",
"help_links": [
{
"text": "GNU Octave",
"url": "https:\/\/www.gnu.org\/software\/octave\/support.html"
},
{
"text": "Octave Kernel",
"url": "https:\/\/github.com\/Calysto\/octave_kernel"
},
{
"text": "MetaKernel Magics",
"url": "https:\/\/github.com\/calysto\/metakernel\/blob\/master\/metakernel\/magics\/README.md"
}
],
"mimetype": "text\/x-octave",
"name": "octave",
"version": "4.2.1"
},
"toc": {
"nav_menu": null,
"number_sections": true,
"sideBar": false,
"skip_h1_title": false,
"toc_cell": false,
"toc_position": null,
"toc_section_display": "block",
"toc_window_display": false
}
},
"nbformat": 4,
"nbformat_minor": 2
}
