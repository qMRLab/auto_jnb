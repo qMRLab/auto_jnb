{
"cells": [
{
"cell_type": "markdown",
"metadata": {},
"source": [
"# I- DESCRIPTION"
]
},
{
"cell_type": "code",
"execution_count": null,
"metadata": {
"collapsed": true
},
"outputs": [],
"source": [
"qMRinfo('qmt_spgr'); % Describe the model"
]
},
{
"cell_type": "markdown",
"metadata": {},
"source": [
"# II- MODEL PARAMETERS\n",
"## a- Create object"
]
},
{
"cell_type": "code",
"execution_count": null,
"metadata": {
"collapsed": true
},
"outputs": [],
"source": [
"Model = qmt_spgr;"
]
},
{
"cell_type": "markdown",
"metadata": {},
"source": [
"## Download sample data from OSF\n",
"> The current `Model` is an instance of `qmt_spgr` class.\n",
" \n",
"You can manually download the sample data for `qmt_spgr` [by clicking here](https:\/\/osf.io\/pzqyn\/download?version=2)."
]
},
{
"cell_type": "code",
"execution_count": null,
"metadata": {
"collapsed": true
},
"outputs": [],
"source": [
"dataDir = downloadData(Model,pwd);"
]
},
{
"cell_type": "markdown",
"metadata": {},
"source": [
"## b- Set protocol\n",
"> Protocol is set according to the example data\n",
" \n",
"%          |- qmt_spgr object needs 2 protocol field(s) to be assigned:\n",
"%          |-   MTdata\n",
"%          |-   TimingTable"
]
},
{
"cell_type": "code",
"execution_count": null,
"metadata": {
"collapsed": true
},
"outputs": [],
"source": [
"Angle = [142.0000; 426.0000; 142.0000; 426.0000; 142.0000; 426.0000; 142.0000; 426.0000; 142.0000; 426.0000];\n",
"% Angle is a vector of [10X1]\n",
"Offset = [443.0000; 443.0000; 1088.0000; 1088.0000; 2732.0000; 2732.0000; 6862.0000; 6862.0000; 17235.0000; 17235.0000];\n",
"% Offset is a vector of [10X1]\n",
"Model.Prot.MTdata.Mat = [ Angle Offset];\n",
"%%   \n",
"Tmt  = 0.0102;\n",
"Ts  = 0.003;\n",
"Tp  = 0.0018;\n",
"Tr  = 0.01;\n",
"TR  = 0.025;\n",
"Model.Prot.TimingTable.Mat = [ Tmt  Ts  Tp  Tr  TR ];\n",
"%%   "
]
},
{
"cell_type": "markdown",
"metadata": {},
"source": [
"# III- FIT EXPERIMENTAL DATASET\n",
"## a- Load experimental data\n",
"%          |- qmt_spgr object needs 5 data input(s) to be assigned:\n",
"%          |-   MTdata\n",
"%          |-   R1map\n",
"%          |-   B1map\n",
"%          |-   B0map\n",
"%          |-   Mask"
]
},
{
"cell_type": "code",
"execution_count": null,
"metadata": {
"collapsed": true
},
"outputs": [],
"source": [
" \n",
"% MTdata.mat contains [88  128    1   10] data.\n",
" load('qmt_spgr_data\/MTdata.mat');\n",
"% R1map.mat contains [88  128] data.\n",
" load('qmt_spgr_data\/R1map.mat');\n",
"% B1map.mat contains [88  128] data.\n",
" load('qmt_spgr_data\/B1map.mat');\n",
"% B0map.mat contains [88  128] data.\n",
" load('qmt_spgr_data\/B0map.mat');\n",
"% Mask.mat contains [88  128] data.\n",
" load('qmt_spgr_data\/Mask.mat');\n",
" data.MTdata= double(MTdata);\n",
" data.R1map= double(R1map);\n",
" data.B1map= double(B1map);\n",
" data.B0map= double(B0map);\n",
" data.Mask= double(Mask);"
]
},
{
"cell_type": "markdown",
"metadata": {},
"source": [
"## b- Fit experimental data\n",
"> This section will fit data."
]
},
{
"cell_type": "code",
"execution_count": null,
"metadata": {
"collapsed": true
},
"outputs": [],
"source": [
"FitResults = FitData(data,Model,0);"
]
},
{
"cell_type": "markdown",
"metadata": {},
"source": [
"## c- Show fitting results\n",
"> * Output map will be displayed.\n",
" \n",
"> * If available, a graph will be displayed to show fitting in a voxel."
]
},
{
"cell_type": "code",
"execution_count": null,
"metadata": {
"collapsed": true
},
"outputs": [],
"source": [
"qMRshowOutput(FitResults,data,Model);"
]
},
{
"cell_type": "markdown",
"metadata": {},
"source": [
"## d- Save results\n",
"> * qMR maps are saved in NIFTI and in a structure `FitResults.mat` that can be loaded in qMRLab graphical user interface.\n",
"> * Model object stores all the options and protocol\n",
"> * These objects can be easily shared or be used for simulation."
]
},
{
"cell_type": "code",
"execution_count": null,
"metadata": {
"collapsed": true
},
"outputs": [],
"source": [
"FitResultsSave_nii(FitResults);"
]
},
{
"cell_type": "markdown",
"metadata": {},
"source": [
"# IV- SIMULATIONS\n",
"> This section can be executed to run simulations for vfa_t1.\n",
" \n",
"## a- Single Voxel Curve\n",
"> Simulates single voxel curves:\n",
" \n",
"       1. Use equation to generate synthetic MRI data\n",
"       2. Add rician noise\n",
"       3. Fit and plot curve"
]
},
{
"cell_type": "code",
"execution_count": null,
"metadata": {
"collapsed": true
},
"outputs": [],
"source": [
"      x = struct;\n",
"      x.F = 0.16;\n",
"      x.kr = 30;\n",
"      x.R1f = 1;\n",
"      x.R1r = 1;\n",
"      x.T2f = 0.03;\n",
"      x.T2r = 1.3e-05;\n",
"      % Set simulation options\n",
"      Opt.SNR = 50;\n",
"      Opt.Method = 'Analytical equation';\n",
"      Opt.ResetMz = false;\n",
"      % run simulation\n",
"      figure('Name','Single Voxel Curve Simulation');\n",
"      FitResult = Model.Sim_Single_Voxel_Curve(x,Opt);"
]
},
{
"cell_type": "markdown",
"metadata": {},
"source": [
"## b- Sensitivity analysis\n",
"> Simulates sensitivity to fitted parameters: \n",
" \n",
"       1. Vary fitting parameters from lower (lb) to upper (ub) bound.\n",
"       2. Run Sim_Single_Voxel_Curve Nofruns times\n",
"       3. Compute mean and std across runs"
]
},
{
"cell_type": "code",
"execution_count": null,
"metadata": {
"collapsed": true
},
"outputs": [],
"source": [
"      %              F             kr            R1f           R1r           T2f           T2r           \n",
"      OptTable.st = [0.16          30            1             1             0.03          1.3e-05]; % nominal values\n",
"      OptTable.fx = [0             1             1             1             1             1]; %vary F...\n",
"      OptTable.lb = [0.0001        0.0001        0.05          0.05          0.003         3e-06]; %...from 0.0001\n",
"      OptTable.ub = [0.5           1e+02         5             5             0.5           5e-05]; %...to 0.5\n",
"      % Set simulation options\n",
"      Opt.SNR = 50;\n",
"      Opt.Method = 'Analytical equation';\n",
"      Opt.ResetMz = false;\n",
"      Opt.Nofrun = 5;\n",
"      % run simulation\n",
"      SimResults = Model.Sim_Sensitivity_Analysis(OptTable,Opt);\n",
"      figure('Name','Sensitivity Analysis');\n",
"      SimVaryPlot(SimResults, 'F' ,'F' );"
]
}
],
"metadata": {
"kernelspec": {
"display_name": "Octave",
"language": "octave",
"name": "octave"
},
"language_info": {
"file_extension": ".m",
"help_links": [
{
"text": "GNU Octave",
"url": "https:\/\/www.gnu.org\/software\/octave\/support.html"
},
{
"text": "Octave Kernel",
"url": "https:\/\/github.com\/Calysto\/octave_kernel"
},
{
"text": "MetaKernel Magics",
"url": "https:\/\/github.com\/calysto\/metakernel\/blob\/master\/metakernel\/magics\/README.md"
}
],
"mimetype": "text\/x-octave",
"name": "octave",
"version": "4.2.1"
},
"toc": {
"nav_menu": null,
"number_sections": true,
"sideBar": false,
"skip_h1_title": false,
"toc_cell": false,
"toc_position": null,
"toc_section_display": "block",
"toc_window_display": false
}
},
"nbformat": 4,
"nbformat_minor": 2
}
