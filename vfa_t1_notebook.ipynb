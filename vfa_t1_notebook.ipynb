{
"cells": [
{
"cell_type": "markdown",
"metadata": {},
"source": [
"# I- DESCRIPTION"
]
},
{
"cell_type": "code",
"execution_count": null,
"metadata": {
"collapsed": true
},
"outputs": [],
"source": [
"qMRinfo('vfa_t1'); % Describe the model"
]
},
{
"cell_type": "markdown",
"metadata": {},
"source": [
"# II- MODEL PARAMETERS\n",
"## a- Create object"
]
},
{
"cell_type": "code",
"execution_count": null,
"metadata": {
"collapsed": true
},
"outputs": [],
"source": [
"Model = vfa_t1;"
]
},
{
"cell_type": "markdown",
"metadata": {},
"source": [
"## Download sample data from OSF\n",
"> The current `Model` is an instance of `vfa_t1` class.\n",
" \n",
"You can manually download the sample data for `vfa_t1` [by clicking here](https:\/\/osf.io\/7wcvh\/download?version=3)."
]
},
{
"cell_type": "code",
"execution_count": null,
"metadata": {
"collapsed": true
},
"outputs": [],
"source": [
"dataDir = downloadData(Model,pwd);"
]
},
{
"cell_type": "markdown",
"metadata": {},
"source": [
"## b- Set protocol\n",
"> Protocol is set according to the example data\n",
" \n",
"%          |- vfa_t1 object needs 1 protocol field(s) to be assigned:\n",
"%          |-   VFAData"
]
},
{
"cell_type": "code",
"execution_count": null,
"metadata": {
"collapsed": true
},
"outputs": [],
"source": [
"FlipAngle = [3.0000; 20.0000];\n",
"% FlipAngle is a vector of [2X1]\n",
"TR = [0.0150; 0.0150];\n",
"% TR is a vector of [2X1]\n",
"Model.Prot.VFAData.Mat = [ FlipAngle TR];\n",
"%%   "
]
},
{
"cell_type": "markdown",
"metadata": {},
"source": [
"# III- FIT EXPERIMENTAL DATASET\n",
"## a- Load experimental data\n",
"%          |- vfa_t1 object needs 3 data input(s) to be assigned:\n",
"%          |-   VFAData\n",
"%          |-   B1map\n",
"%          |-   Mask"
]
},
{
"cell_type": "code",
"execution_count": null,
"metadata": {
"collapsed": true
},
"outputs": [],
"source": [
"% VFAData.nii.gz contains [128  128    1    2] data.\n",
"data.VFAData=double(load_nii_data('vfa_t1_data\/VFAData.nii.gz'));\n",
"% B1map.nii.gz contains [128  128] data.\n",
"data.B1map=double(load_nii_data('vfa_t1_data\/B1map.nii.gz'));\n",
"% Mask.nii.gz contains [128  128] data.\n",
"data.Mask=double(load_nii_data('vfa_t1_data\/Mask.nii.gz'));\n",
" "
]
},
{
"cell_type": "markdown",
"metadata": {},
"source": [
"## b- Fit experimental data\n",
"> This section will fit data."
]
},
{
"cell_type": "code",
"execution_count": null,
"metadata": {
"collapsed": true
},
"outputs": [],
"source": [
"FitResults = FitData(data,Model,0);"
]
},
{
"cell_type": "markdown",
"metadata": {},
"source": [
"## c- Show fitting results\n",
"> * Output map will be displayed.\n",
" \n",
"> * If available, a graph will be displayed to show fitting in a voxel."
]
},
{
"cell_type": "code",
"execution_count": null,
"metadata": {
"collapsed": true
},
"outputs": [],
"source": [
"qMRshowOutput(FitResults,data,Model);"
]
},
{
"cell_type": "markdown",
"metadata": {},
"source": [
"## d- Save results\n",
"> * qMR maps are saved in NIFTI and in a structure `FitResults.mat` that can be loaded in qMRLab graphical user interface.\n",
"> * Model object stores all the options and protocol\n",
"> * These objects can be easily shared or be used for simulation."
]
},
{
"cell_type": "code",
"execution_count": null,
"metadata": {
"collapsed": true
},
"outputs": [],
"source": [
"FitResultsSave_nii(FitResults, 'vfa_t1_data\/VFAData.nii.gz');"
]
}
],
"metadata": {
"kernelspec": {
"display_name": "Octave",
"language": "octave",
"name": "octave"
},
"language_info": {
"file_extension": ".m",
"help_links": [
{
"text": "GNU Octave",
"url": "https:\/\/www.gnu.org\/software\/octave\/support.html"
},
{
"text": "Octave Kernel",
"url": "https:\/\/github.com\/Calysto\/octave_kernel"
},
{
"text": "MetaKernel Magics",
"url": "https:\/\/github.com\/calysto\/metakernel\/blob\/master\/metakernel\/magics\/README.md"
}
],
"mimetype": "text\/x-octave",
"name": "octave",
"version": "4.2.1"
},
"toc": {
"nav_menu": null,
"number_sections": true,
"sideBar": false,
"skip_h1_title": false,
"toc_cell": false,
"toc_position": null,
"toc_section_display": "block",
"toc_window_display": false
}
},
"nbformat": 4,
"nbformat_minor": 2
}
