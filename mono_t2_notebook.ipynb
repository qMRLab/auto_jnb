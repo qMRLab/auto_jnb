{
"cells": [
{
"cell_type": "markdown",
"metadata": {},
"source": [
"# I- DESCRIPTION"
]
},
{
"cell_type": "code",
"execution_count": null,
"metadata": {
"collapsed": true
},
"outputs": [],
"source": [
"qMRinfo('mono_t2'); % Describe the model"
]
},
{
"cell_type": "markdown",
"metadata": {},
"source": [
"# II- MODEL PARAMETERS\n",
"## a- Create object"
]
},
{
"cell_type": "code",
"execution_count": null,
"metadata": {
"collapsed": true
},
"outputs": [],
"source": [
"Model = mono_t2;"
]
},
{
"cell_type": "markdown",
"metadata": {},
"source": [
"## Download sample data from OSF\n",
"> The current `Model` is an instance of `mono_t2` class.\n",
" \n",
"You can manually download the sample data for `mono_t2` [by clicking here](https:\/\/osf.io\/kujp3\/download?version=2)."
]
},
{
"cell_type": "code",
"execution_count": null,
"metadata": {
"collapsed": true
},
"outputs": [],
"source": [
"dataDir = downloadData(Model,pwd);"
]
},
{
"cell_type": "markdown",
"metadata": {},
"source": [
"## b- Set protocol\n",
"> Protocol is set according to the example data\n",
" \n",
"%          |- mono_t2 object needs 1 protocol field(s) to be assigned:\n",
"%          |-   SEdata"
]
},
{
"cell_type": "code",
"execution_count": null,
"metadata": {
"collapsed": true
},
"outputs": [],
"source": [
"EchoTime  = [12.8000; 25.6000; 38.4000; 51.2000; 64.0000; 76.8000; 89.6000; 102.4000; 115.2000; 128.0000; 140.8000; 153.6000; 166.4000; 179.2000; 192.0000; 204.8000; 217.6000; 230.4000; 243.2000; 256.0000; 268.8000; 281.6000; 294.4000; 307.2000; 320.0000; 332.8000; 345.6000; 358.4000; 371.2000; 384.0000];\n",
"% EchoTime (ms) is a vector of [30X1]\n",
"Model.Prot.SEdata.Mat = [ EchoTime ];\n",
"%%   "
]
},
{
"cell_type": "markdown",
"metadata": {},
"source": [
"# III- FIT EXPERIMENTAL DATASET\n",
"## a- Load experimental data\n",
"%          |- mono_t2 object needs 2 data input(s) to be assigned:\n",
"%          |-   SEdata\n",
"%          |-   Mask"
]
},
{
"cell_type": "code",
"execution_count": null,
"metadata": {
"collapsed": true
},
"outputs": [],
"source": [
"% SEdata.nii.gz contains [260  320    1   30] data.\n",
"data.SEdata=double(load_nii_data('mono_t2_data\/SEdata.nii.gz'));\n",
"% Mask.nii.gz contains [260  320] data.\n",
"data.Mask=double(load_nii_data('mono_t2_data\/Mask.nii.gz'));\n",
" "
]
},
{
"cell_type": "markdown",
"metadata": {},
"source": [
"## b- Fit experimental data\n",
"> This section will fit data."
]
},
{
"cell_type": "code",
"execution_count": null,
"metadata": {
"collapsed": true
},
"outputs": [],
"source": [
"FitResults = FitData(data,Model,0);"
]
},
{
"cell_type": "markdown",
"metadata": {},
"source": [
"## c- Show fitting results\n",
"> * Output map will be displayed.\n",
" \n",
"> * If available, a graph will be displayed to show fitting in a voxel."
]
},
{
"cell_type": "code",
"execution_count": null,
"metadata": {
"collapsed": true
},
"outputs": [],
"source": [
"qMRshowOutput(FitResults,data,Model);"
]
},
{
"cell_type": "markdown",
"metadata": {},
"source": [
"## d- Save results\n",
"> * qMR maps are saved in NIFTI and in a structure `FitResults.mat` that can be loaded in qMRLab graphical user interface.\n",
"> * Model object stores all the options and protocol\n",
"> * These objects can be easily shared or be used for simulation."
]
},
{
"cell_type": "code",
"execution_count": null,
"metadata": {
"collapsed": true
},
"outputs": [],
"source": [
"FitResultsSave_nii(FitResults, 'mono_t2_data\/SEdata.nii.gz');"
]
},
{
"cell_type": "markdown",
"metadata": {},
"source": [
"# IV- SIMULATIONS\n",
"> This section can be executed to run simulations for vfa_t1.\n",
" \n",
"## a- Single Voxel Curve\n",
"> Simulates single voxel curves:\n",
" \n",
"       1. Use equation to generate synthetic MRI data\n",
"       2. Add rician noise\n",
"       3. Fit and plot curve"
]
},
{
"cell_type": "code",
"execution_count": null,
"metadata": {
"collapsed": true
},
"outputs": [],
"source": [
"      x = struct;\n",
"      x.T2 = 100;\n",
"      x.M0 = 1000;\n",
"       Opt.SNR = 50;\n",
"      % run simulation\n",
"      figure('Name','Single Voxel Curve Simulation');\n",
"      FitResult = Model.Sim_Single_Voxel_Curve(x,Opt);"
]
},
{
"cell_type": "markdown",
"metadata": {},
"source": [
"## b- Sensitivity analysis\n",
"> Simulates sensitivity to fitted parameters: \n",
" \n",
"       1. Vary fitting parameters from lower (lb) to upper (ub) bound.\n",
"       2. Run Sim_Single_Voxel_Curve Nofruns times\n",
"       3. Compute mean and std across runs"
]
},
{
"cell_type": "code",
"execution_count": null,
"metadata": {
"collapsed": true
},
"outputs": [],
"source": [
"      %              T2            M0            \n",
"      OptTable.st = [1e+02         1e+03]; % nominal values\n",
"      OptTable.fx = [0             1]; %vary T2...\n",
"      OptTable.lb = [1             1]; %...from 1\n",
"      OptTable.ub = [3e+02         1e+04]; %...to 300\n",
"       Opt.SNR = 50;\n",
"       Opt.Nofrun = 5;\n",
"      % run simulation\n",
"      SimResults = Model.Sim_Sensitivity_Analysis(OptTable,Opt);\n",
"      figure('Name','Sensitivity Analysis');\n",
"      SimVaryPlot(SimResults, 'T2' ,'T2' );"
]
}
],
"metadata": {
"kernelspec": {
"display_name": "Octave",
"language": "octave",
"name": "octave"
},
"language_info": {
"file_extension": ".m",
"help_links": [
{
"text": "GNU Octave",
"url": "https:\/\/www.gnu.org\/software\/octave\/support.html"
},
{
"text": "Octave Kernel",
"url": "https:\/\/github.com\/Calysto\/octave_kernel"
},
{
"text": "MetaKernel Magics",
"url": "https:\/\/github.com\/calysto\/metakernel\/blob\/master\/metakernel\/magics\/README.md"
}
],
"mimetype": "text\/x-octave",
"name": "octave",
"version": "4.2.1"
},
"toc": {
"nav_menu": null,
"number_sections": true,
"sideBar": false,
"skip_h1_title": false,
"toc_cell": false,
"toc_position": null,
"toc_section_display": "block",
"toc_window_display": false
}
},
"nbformat": 4,
"nbformat_minor": 2
}
