{
"cells": [
{
"cell_type": "markdown",
"metadata": {},
"source": [
"# I- DESCRIPTION"
]
},
{
"cell_type": "code",
"execution_count": null,
"metadata": {
"collapsed": true
},
"outputs": [],
"source": [
"qMRinfo('qmt_sirfse'); % Describe the model"
]
},
{
"cell_type": "markdown",
"metadata": {},
"source": [
"# II- MODEL PARAMETERS\n",
"## a- Create object"
]
},
{
"cell_type": "code",
"execution_count": null,
"metadata": {
"collapsed": true
},
"outputs": [],
"source": [
"Model = qmt_sirfse;"
]
},
{
"cell_type": "markdown",
"metadata": {},
"source": [
"## Download sample data from OSF\n",
"> The current `Model` is an instance of `qmt_sirfse` class.\n",
" \n",
"You can manually download the sample data for `qmt_sirfse` [by clicking here](https:\/\/osf.io\/fk2nd\/download?version=2)."
]
},
{
"cell_type": "code",
"execution_count": null,
"metadata": {
"collapsed": true
},
"outputs": [],
"source": [
"dataDir = downloadData(Model,pwd);"
]
},
{
"cell_type": "markdown",
"metadata": {},
"source": [
"## b- Set protocol\n",
"> Protocol is set according to the example data\n",
" \n",
"%           |- qmt_sirfse object needs 2 protocol field(s) to be assigned:\n",
"%           |-   MTdata\n",
"%           |-   FSEsequence"
]
},
{
"cell_type": "code",
"execution_count": null,
"metadata": {
"collapsed": true
},
"outputs": [],
"source": [
"% Ti is a vector of [25X1]\n",
"Ti = [0.0030; 0.0037; 0.0047; 0.0058; 0.0072; 0.0090; 0.0112; 0.0139; 0.0173; 0.0216; 0.0269; 0.0335; 0.0417; 0.0519; 0.0646; 0.0805; 0.1002; 0.1248; 0.1554; 0.1935; 0.2409; 0.3000; 1.0000; 2.0000; 10.0000];\n",
"% Td is a vector of [25X1]\n",
"Td = [3.5000; 3.5000; 3.5000; 3.5000; 3.5000; 3.5000; 3.5000; 3.5000; 3.5000; 3.5000; 3.5000; 3.5000; 3.5000; 3.5000; 3.5000; 3.5000; 3.5000; 3.5000; 3.5000; 3.5000; 3.5000; 3.5000; 3.5000; 3.5000; 3.5000];\n",
"Model.Prot.MTdata.Mat = [ Ti Td];\n",
"% -----------------------------------------\n",
"Trf  = 0.001;\n",
"Tr  = 0.01;\n",
"Npulse = 16;\n",
"Model.Prot.FSEsequence.Mat = [ Trf  Tr  Npulse];\n",
"% -----------------------------------------"
]
},
{
"cell_type": "markdown",
"metadata": {},
"source": [
"# III- FIT EXPERIMENTAL DATASET\n",
"## a- Load experimental data\n",
"%           |- qmt_sirfse object needs 3 data input(s) to be assigned:\n",
"%           |-   MTdata\n",
"%           |-   R1map\n",
"%           |-   Mask"
]
},
{
"cell_type": "code",
"execution_count": null,
"metadata": {
"collapsed": true
},
"outputs": [],
"source": [
"% MTdata.nii.gz contains [128  128    1   25] data.\n",
"data.MTdata=double(load_nii_data('qmt_sirfse_data\/MTdata.nii.gz'));\n",
"% Mask.nii.gz contains [128  128] data.\n",
"data.Mask=double(load_nii_data('qmt_sirfse_data\/Mask.nii.gz'));\n",
" "
]
},
{
"cell_type": "markdown",
"metadata": {},
"source": [
"## b- Fit experimental data\n",
"> This section will fit data."
]
},
{
"cell_type": "code",
"execution_count": null,
"metadata": {
"collapsed": true
},
"outputs": [],
"source": [
"FitResults = FitData(data,Model,0);"
]
},
{
"cell_type": "markdown",
"metadata": {},
"source": [
"## c- Show fitting results\n",
"> * Output map will be displayed.\n",
" \n",
"> * If available, a graph will be displayed to show fitting in a voxel."
]
},
{
"cell_type": "code",
"execution_count": null,
"metadata": {
"collapsed": true
},
"outputs": [],
"source": [
"qMRshowOutput(FitResults,data,Model);"
]
},
{
"cell_type": "markdown",
"metadata": {},
"source": [
"## d- Save results\n",
"> * qMR maps are saved in NIFTI and in a structure `FitResults.mat` that can be loaded in qMRLab graphical user interface.\n",
"> * Model object stores all the options and protocol\n",
"> * These objects can be easily shared or be used for simulation."
]
},
{
"cell_type": "code",
"execution_count": null,
"metadata": {
"collapsed": true
},
"outputs": [],
"source": [
"FitResultsSave_nii(FitResults, 'qmt_sirfse_data\/MTdata.nii.gz');"
]
},
{
"cell_type": "markdown",
"metadata": {},
"source": [
"# IV- SIMULATIONS\n",
"> This section can be executed to run simulations for vfa_t1.\n",
" \n",
"## a- Single Voxel Curve\n",
"> Simulates single voxel curves:\n",
" \n",
"       1. Use equation to generate synthetic MRI data\n",
"       2. Add rician noise\n",
"       3. Fit and plot curve"
]
},
{
"cell_type": "code",
"execution_count": null,
"metadata": {
"collapsed": true
},
"outputs": [],
"source": [
"      x = struct;\n",
"      x.F = 0.1;\n",
"      x.kr = 30;\n",
"      x.R1f = 1;\n",
"      x.R1r = 1;\n",
"      x.Sf = -0.98419;\n",
"      x.Sr = 0.65638;\n",
"      x.M0f = 1;\n",
"      % Set simulation options\n",
"      Opt.SNR = 50;\n",
"      Opt.Method = 'Analytical equation';\n",
"      Opt.T2fUsedinBlockequation = 0.04;\n",
"      % run simulation\n",
"      figure('Name','Single Voxel Curve Simulation');\n",
"      FitResult = Model.Sim_Single_Voxel_Curve(x,Opt);"
]
},
{
"cell_type": "markdown",
"metadata": {},
"source": [
"## b- Sensitivity analysis\n",
"> Simulates sensitivity to fitted parameters: \n",
" \n",
"       1. Vary fitting parameters from lower (lb) to upper (ub) bound.\n",
"       2. Run Sim_Single_Voxel_Curve Nofruns times\n",
"       3. Compute mean and std across runs"
]
},
{
"cell_type": "code",
"execution_count": null,
"metadata": {
"collapsed": true
},
"outputs": [],
"source": [
"      %              F             kr            R1f           R1r           Sf            Sr            M0f           \n",
"      OptTable.st = [0.1           30            1             1             -0.98         0.66          1]; % nominal values\n",
"      OptTable.fx = [0             1             1             1             1             1             1]; %vary F...\n",
"      OptTable.lb = [0.0001        0.0001        0.05          0.05          -1            0.0001        0.0001]; %...from 0.0001\n",
"      OptTable.ub = [1             1e+02         10            10            0             1             2]; %...to 1\n",
"      % Set simulation options\n",
"      Opt.SNR = 50;\n",
"      Opt.Method = 'Analytical equation';\n",
"      Opt.T2fUsedinBlockequation = 0.04;\n",
"      Opt.Nofrun = 5;\n",
"      % run simulation\n",
"      SimResults = Model.Sim_Sensitivity_Analysis(OptTable,Opt);\n",
"      figure('Name','Sensitivity Analysis');\n",
"      SimVaryPlot(SimResults, 'F' ,'F' );"
]
}
],
"metadata": {
"kernelspec": {
"display_name": "Octave",
"language": "octave",
"name": "octave"
},
"language_info": {
"file_extension": ".m",
"help_links": [
{
"text": "GNU Octave",
"url": "https:\/\/www.gnu.org\/software\/octave\/support.html"
},
{
"text": "Octave Kernel",
"url": "https:\/\/github.com\/Calysto\/octave_kernel"
},
{
"text": "MetaKernel Magics",
"url": "https:\/\/github.com\/calysto\/metakernel\/blob\/master\/metakernel\/magics\/README.md"
}
],
"mimetype": "text\/x-octave",
"name": "octave",
"version": "4.2.1"
},
"toc": {
"nav_menu": null,
"number_sections": true,
"sideBar": false,
"skip_h1_title": false,
"toc_cell": false,
"toc_position": null,
"toc_section_display": "block",
"toc_window_display": false
}
},
"nbformat": 4,
"nbformat_minor": 2
}
